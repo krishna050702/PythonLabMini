{
  "nbformat": 4,
  "nbformat_minor": 0,
  "metadata": {
    "colab": {
      "name": "Untitled5.ipynb",
      "provenance": [],
      "collapsed_sections": []
    },
    "kernelspec": {
      "name": "python3",
      "display_name": "Python 3"
    },
    "language_info": {
      "name": "python"
    }
  },
  "cells": [
    {
      "cell_type": "code",
      "execution_count": null,
      "metadata": {
        "id": "vk3WDfoK_oNd"
      },
      "outputs": [],
      "source": [
        "pip install chatterbot"
      ]
    },
    {
      "cell_type": "code",
      "source": [
        "from flask import Flask,render_template,request\n",
        "from chatterbot.chatterbot import ChatBot\n",
        "from chatterbot import trainers"
      ],
      "metadata": {
        "id": "8tGiSDba_r3q"
      },
      "execution_count": null,
      "outputs": []
    },
    {
      "cell_type": "code",
      "source": [
        "english_bot = ChatBot(\"Chatterbot\",storage_adapter=\"chatterbot.storage.SQLStorageAdapter\")"
      ],
      "metadata": {
        "id": "D_MBq7ly_36p"
      },
      "execution_count": null,
      "outputs": []
    },
    {
      "cell_type": "code",
      "source": [
        "trainer = trainers.ChatterBotCorpusTrainer(english_bot)"
      ],
      "metadata": {
        "id": "WA9xzK3N_9NL"
      },
      "execution_count": null,
      "outputs": []
    },
    {
      "cell_type": "code",
      "source": [
        "trainer.train(\"/content/english\")"
      ],
      "metadata": {
        "colab": {
          "base_uri": "https://localhost:8080/"
        },
        "id": "Jh9e9Q4PAA5F",
        "outputId": "a91b506b-be62-4651-cffd-ec92c52e7cdf"
      },
      "execution_count": null,
      "outputs": [
        {
          "output_type": "stream",
          "name": "stdout",
          "text": [
            "Training ai.yml: [####################] 100%\n",
            "Training botprofile.yml: [####################] 100%\n",
            "Training computers.yml: [####################] 100%\n",
            "Training conversations.yml: [####################] 100%\n",
            "Training emotion.yml: [####################] 100%\n",
            "Training food.yml: [####################] 100%\n",
            "Training gossip.yml: [####################] 100%\n",
            "Training greetings.yml: [####################] 100%\n",
            "Training health.yml: [####################] 100%\n",
            "Training history.yml: [####################] 100%\n",
            "Training humor.yml: [####################] 100%\n",
            "Training literature.yml: [####################] 100%\n",
            "Training money.yml: [####################] 100%\n",
            "Training movies.yml: [####################] 100%\n",
            "Training politics.yml: [####################] 100%\n",
            "Training psychology.yml: [####################] 100%\n",
            "Training science.yml: [####################] 100%\n",
            "Training sports.yml: [####################] 100%\n",
            "Training trivia.yml: [####################] 100%\n"
          ]
        }
      ]
    },
    {
      "cell_type": "code",
      "source": [
        "user = input()\n",
        "english_bot.get_response(user)"
      ],
      "metadata": {
        "colab": {
          "base_uri": "https://localhost:8080/"
        },
        "id": "lkmTAmyFBqQo",
        "outputId": "a1d499ad-0741-4fe6-db0b-4454e214b93f"
      },
      "execution_count": null,
      "outputs": [
        {
          "name": "stdout",
          "output_type": "stream",
          "text": [
            "Hello\n"
          ]
        }
      ]
    },
    {
      "cell_type": "code",
      "source": [
        "for i in range(5):\n",
        "  user = input()\n",
        "  print(english_bot.get_response(user))"
      ],
      "metadata": {
        "colab": {
          "base_uri": "https://localhost:8080/"
        },
        "id": "1DLWJAt0ERKr",
        "outputId": "c5195e0c-9f94-414d-9184-2dc483537fe4"
      },
      "execution_count": null,
      "outputs": [
        {
          "output_type": "stream",
          "name": "stdout",
          "text": [
            "Hello\n",
            "Hi\n",
            "What is your name\n",
            "what do you get when you cross a cat and a lemon?\n",
            "Your creater\n",
            "Lokesh \\n Krishna \\n Parag\n",
            "Waht is soccer\n",
            "what is government\n",
            "what is soccer\n",
            "A game played with a round ball by two teams of eleven players on a field with a goal at either end; the ball is moved chiefly by kicking or by using any part of the body except the hands and arms.\n"
          ]
        }
      ]
    },
    {
      "cell_type": "code",
      "source": [
        ""
      ],
      "metadata": {
        "id": "_2LTVPT0EWai"
      },
      "execution_count": null,
      "outputs": []
    }
  ]
}